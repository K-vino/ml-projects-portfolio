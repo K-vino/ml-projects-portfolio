{
 "cells": [
  {
   "cell_type": "markdown",
   "metadata": {},
   "source": [
    "# 🏠 Boston Housing Price Predictor\n",
    "\n",
    "**Project**: Regression - Predicting House Prices  \n",
    "**Level**: Beginner  \n",
    "**Dataset**: Boston Housing Dataset (Scikit-learn built-in)  \n",
    "\n",
    "## 📋 Project Overview\n",
    "\n",
    "In this project, we'll predict house prices in Boston using regression techniques. This is perfect for learning:\n",
    "\n",
    "- Regression analysis fundamentals\n",
    "- Feature importance and relationships\n",
    "- Multiple regression algorithms\n",
    "- Regression evaluation metrics\n",
    "- Residual analysis\n",
    "\n",
    "Let's build our first regression model! 🏡"
   ]
  },
  {
   "cell_type": "markdown",
   "metadata": {},
   "source": [
    "## 1. Import Libraries"
   ]
  },
  {
   "cell_type": "code",
   "execution_count": null,
   "metadata": {},
   "outputs": [],
   "source": [
    "# Data manipulation and analysis\n",
    "import pandas as pd\n",
    "import numpy as np\n",
    "\n",
    "# Data visualization\n",
    "import matplotlib.pyplot as plt\n",
    "import seaborn as sns\n",
    "\n",
    "# Machine learning\n",
    "from sklearn.datasets import load_boston\n",
    "from sklearn.model_selection import train_test_split, cross_val_score\n",
    "from sklearn.preprocessing import StandardScaler\n",
    "from sklearn.linear_model import LinearRegression, Ridge, Lasso\n",
    "from sklearn.ensemble import RandomForestRegressor, GradientBoostingRegressor\n",
    "from sklearn.svm import SVR\n",
    "from sklearn.metrics import mean_absolute_error, mean_squared_error, r2_score\n",
    "\n",
    "# Utilities\n",
    "import warnings\n",
    "warnings.filterwarnings('ignore')\n",
    "\n",
    "# Set style\n",
    "plt.style.use('seaborn-v0_8')\n",
    "sns.set_palette(\"husl\")\n",
    "\n",
    "print(\"✅ All libraries imported successfully!\")"
   ]
  },
  {
   "cell_type": "markdown",
   "metadata": {},
   "source": [
    "## 2. Data Loading and Exploration"
   ]
  },
  {
   "cell_type": "code",
   "execution_count": null,
   "metadata": {},
   "outputs": [],
   "source": [
    "# Load Boston Housing dataset\n",
    "boston = load_boston()\n",
    "\n",
    "# Create DataFrame\n",
    "df = pd.DataFrame(data=boston.data, columns=boston.feature_names)\n",
    "df['MEDV'] = boston.target\n",
    "\n",
    "print(\"🏠 Boston Housing dataset loaded!\")\n",
    "print(f\"Dataset shape: {df.shape}\")\n",
    "print(f\"Features: {list(boston.feature_names)}\")\n",
    "print(f\"Target: MEDV (Median home value in $1000s)\")"
   ]
  },
  {
   "cell_type": "code",
   "execution_count": null,
   "metadata": {},
   "outputs": [],
   "source": [
    "# Display first few rows\n",
    "print(\"🔍 First 5 rows:\")\n",
    "df.head()"
   ]
  },
  {
   "cell_type": "code",
   "execution_count": null,
   "metadata": {},
   "outputs": [],
   "source": [
    "# Dataset information\n",
    "print(\"📊 Dataset Information:\")\n",
    "print(f\"Total houses: {len(df)}\")\n",
    "print(f\"Features: {df.shape[1] - 1}\")\n",
    "print(f\"Price range: ${df['MEDV'].min():.1f}k - ${df['MEDV'].max():.1f}k\")\n",
    "print(f\"Average price: ${df['MEDV'].mean():.1f}k\")\n",
    "print(f\"Missing values: {df.isnull().sum().sum()}\")\n",
    "\n",
    "print(\"\\n📈 Statistical Summary:\")\n",
    "df.describe()"
   ]
  },
  {
   "cell_type": "markdown",
   "metadata": {},
   "source": [
    "## 3. Exploratory Data Analysis"
   ]
  },
  {
   "cell_type": "code",
   "execution_count": null,
   "metadata": {},
   "outputs": [],
   "source": [
    "# Price distribution\n",
    "fig, axes = plt.subplots(1, 2, figsize=(15, 6))\n",
    "\n",
    "# Histogram\n",
    "axes[0].hist(df['MEDV'], bins=30, alpha=0.7, color='skyblue', edgecolor='black')\n",
    "axes[0].set_title('🏠 Distribution of House Prices', fontweight='bold', fontsize=14)\n",
    "axes[0].set_xlabel('Price ($1000s)')\n",
    "axes[0].set_ylabel('Frequency')\n",
    "axes[0].axvline(df['MEDV'].mean(), color='red', linestyle='--', \n",
    "                label=f'Mean: ${df[\"MEDV\"].mean():.1f}k')\n",
    "axes[0].legend()\n",
    "\n",
    "# Box plot\n",
    "axes[1].boxplot(df['MEDV'])\n",
    "axes[1].set_title('📦 House Price Box Plot', fontweight='bold', fontsize=14)\n",
    "axes[1].set_ylabel('Price ($1000s)')\n",
    "\n",
    "plt.tight_layout()\n",
    "plt.show()\n",
    "\n",
    "print(f\"📊 Price Statistics:\")\n",
    "print(f\"• Mean: ${df['MEDV'].mean():.1f}k\")\n",
    "print(f\"• Median: ${df['MEDV'].median():.1f}k\")\n",
    "print(f\"• Std Dev: ${df['MEDV'].std():.1f}k\")\n",
    "print(f\"• Skewness: {df['MEDV'].skew():.2f}\")"
   ]
  },
  {
   "cell_type": "code",
   "execution_count": null,
   "metadata": {},
   "outputs": [],
   "source": [
    "# Feature correlations with price\n",
    "plt.figure(figsize=(12, 8))\n",
    "correlations = df.corr()['MEDV'].sort_values(key=abs, ascending=False)[1:]\n",
    "\n",
    "# Create color map\n",
    "colors = ['red' if x < 0 else 'green' for x in correlations.values]\n",
    "\n",
    "bars = plt.barh(range(len(correlations)), correlations.values, color=colors, alpha=0.7)\n",
    "plt.yticks(range(len(correlations)), correlations.index)\n",
    "plt.xlabel('Correlation with House Price')\n",
    "plt.title('🔗 Feature Correlations with House Prices', fontweight='bold', fontsize=16)\n",
    "plt.axvline(x=0, color='black', linestyle='-', alpha=0.3)\n",
    "\n",
    "# Add value labels\n",
    "for i, bar in enumerate(bars):\n",
    "    width = bar.get_width()\n",
    "    plt.text(width + (0.01 if width > 0 else -0.01), bar.get_y() + bar.get_height()/2, \n",
    "             f'{width:.3f}', ha='left' if width > 0 else 'right', va='center', fontweight='bold')\n",
    "\n",
    "plt.tight_layout()\n",
    "plt.show()\n",
    "\n",
    "print(\"🔍 Top Positive Correlations:\")\n",
    "positive_corr = correlations[correlations > 0].head(3)\n",
    "for feature, corr in positive_corr.items():\n",
    "    print(f\"• {feature}: {corr:.3f}\")\n",
    "\n",
    "print(\"\\n🔍 Top Negative Correlations:\")\n",
    "negative_corr = correlations[correlations < 0].tail(3)\n",
    "for feature, corr in negative_corr.items():\n",
    "    print(f\"• {feature}: {corr:.3f}\")"
   ]
  },
  {
   "cell_type": "markdown",
   "metadata": {},
   "source": [
    "## 4. Data Preprocessing"
   ]
  },
  {
   "cell_type": "code",
   "execution_count": null,
   "metadata": {},
   "outputs": [],
   "source": [
    "# Prepare features and target\n",
    "X = df.drop('MEDV', axis=1)\n",
    "y = df['MEDV']\n",
    "\n",
    "print(\"🔧 Data preprocessing...\")\n",
    "print(f\"Features shape: {X.shape}\")\n",
    "print(f\"Target shape: {y.shape}\")\n",
    "print(f\"Feature names: {list(X.columns)}\")\n",
    "\n",
    "# Check for outliers using IQR method\n",
    "Q1 = y.quantile(0.25)\n",
    "Q3 = y.quantile(0.75)\n",
    "IQR = Q3 - Q1\n",
    "lower_bound = Q1 - 1.5 * IQR\n",
    "upper_bound = Q3 + 1.5 * IQR\n",
    "\n",
    "outliers = y[(y < lower_bound) | (y > upper_bound)]\n",
    "print(f\"\\n📊 Outlier Analysis:\")\n",
    "print(f\"• Total outliers: {len(outliers)} ({len(outliers)/len(y):.1%})\")\n",
    "print(f\"• Price range: ${y.min():.1f}k - ${y.max():.1f}k\")\n",
    "print(f\"• IQR bounds: ${lower_bound:.1f}k - ${upper_bound:.1f}k\")"
   ]
  },
  {
   "cell_type": "code",
   "execution_count": null,
   "metadata": {},
   "outputs": [],
   "source": [
    "# Split the data\n",
    "X_train, X_test, y_train, y_test = train_test_split(\n",
    "    X, y, test_size=0.2, random_state=42\n",
    ")\n",
    "\n",
    "print(\"✂️ Data split completed:\")\n",
    "print(f\"Training set: {X_train.shape[0]} samples\")\n",
    "print(f\"Testing set: {X_test.shape[0]} samples\")\n",
    "print(f\"Training target mean: ${y_train.mean():.1f}k\")\n",
    "print(f\"Testing target mean: ${y_test.mean():.1f}k\")\n",
    "\n",
    "# Scale the features\n",
    "scaler = StandardScaler()\n",
    "X_train_scaled = scaler.fit_transform(X_train)\n",
    "X_test_scaled = scaler.transform(X_test)\n",
    "\n",
    "print(\"\\n⚖️ Feature scaling completed!\")\n",
    "print(f\"Original feature means: {X_train.mean().round(2).tolist()[:3]}...\")\n",
    "print(f\"Scaled feature means: {X_train_scaled.mean(axis=0).round(2).tolist()[:3]}...\")"
   ]
  }
 ],
 "metadata": {
  "kernelspec": {
   "display_name": "Python 3",
   "language": "python",
   "name": "python3"
  },
  "language_info": {
   "codemirror_mode": {
    "name": "ipython",
    "version": 3
   },
   "file_extension": ".py",
   "mimetype": "text/x-python",
   "name": "python",
   "nbconvert_exporter": "python",
   "pygments_lexer": "ipython3",
   "version": "3.8.0"
  }
 },
 "nbformat": 4,
 "nbformat_minor": 4
}
